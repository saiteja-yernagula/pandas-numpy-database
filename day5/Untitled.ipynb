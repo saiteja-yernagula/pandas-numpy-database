{
 "cells": [
  {
   "cell_type": "code",
   "execution_count": 43,
   "metadata": {},
   "outputs": [],
   "source": [
    "import numpy as np"
   ]
  },
  {
   "cell_type": "code",
   "execution_count": 68,
   "metadata": {},
   "outputs": [
    {
     "data": {
      "text/plain": [
       "68"
      ]
     },
     "execution_count": 68,
     "metadata": {},
     "output_type": "execute_result"
    }
   ],
   "source": [
    "\n",
    "\n",
    "# # # splitting\n",
    "# # arr=np.arange(1,10)\n",
    "# # np.split(arr,3)[0]\n",
    "\n",
    "# # # broad casting - performing an operation on each elemnt\n",
    "# # arr=np.array([[1,2,3],[4,5,6]])\n",
    "# # print(arr+5)\n",
    "# # print(arr-5)\n",
    "# # print(arr/5)\n",
    "# # print(arr*5)\n",
    "\n",
    "# # filtering\n",
    "# arr=np.arange(1,10)\n",
    "# print(arr>5)\n",
    "\n",
    "# # boolean indexing\n",
    "# print(arr[arr>5])\n",
    "arr=np.arange(1,10)\n",
    "\n",
    "# conditioning in numpy\n",
    "# np.where(condition, ifstatement,elsestatement)\n",
    "# np.where(arr%2==0, \"even\",\"odd\")\n",
    "\n",
    "# to generate random numbers\n",
    "np.random.rand(5)\n",
    "# to generate random single integer\n",
    "np.random.randint(1,100)\n",
    "# to generate random multiple integer\n",
    "np.random.randint(1,100,size=10)\n",
    "# to generate random multiple integer in a 1d ,2d or 3d format\n",
    "np.random.randint(1,100,size=(3,3))\n",
    "# to change the by default algo value- it can generate same random thing everytim\n",
    "np.random.seed(8)\n",
    "np.random.randint(1,100)\n"
   ]
  },
  {
   "cell_type": "code",
   "execution_count": 84,
   "metadata": {},
   "outputs": [
    {
     "name": "stdout",
     "output_type": "stream",
     "text": [
      "[[ 6  8]\n",
      " [10 12]]\n",
      "[[-4 -4]\n",
      " [-4 -4]]\n",
      "[[ 5 12]\n",
      " [21 32]]\n",
      "[[19 22]\n",
      " [43 50]]\n"
     ]
    },
    {
     "data": {
      "text/plain": [
       "np.int64(5)"
      ]
     },
     "execution_count": 84,
     "metadata": {},
     "output_type": "execute_result"
    }
   ],
   "source": [
    "# matrix\n",
    "\n",
    "a=np.array([\n",
    "    [1,2],\n",
    "    [3,4]\n",
    "])\n",
    "b=np.array([\n",
    "    [5,6],\n",
    "    [7,8]\n",
    "])\n",
    "# how to add two matrix\n",
    "print(a+b)\n",
    "# how to subtract\n",
    "print(a-b)\n",
    "# how to multiply\n",
    "print(a*b)\n",
    "# how to calculate the dot matrix\n",
    "np.dot(a,b)\n",
    "print(a @ b)\n",
    "\n",
    "\n",
    "np.linalg.det(b)\n",
    "np.linalg.inv(b)\n",
    "np.linalg.trace(a)"
   ]
  },
  {
   "cell_type": "code",
   "execution_count": null,
   "metadata": {},
   "outputs": [],
   "source": []
  }
 ],
 "metadata": {
  "kernelspec": {
   "display_name": "Python 3 (ipykernel)",
   "language": "python",
   "name": "python3"
  },
  "language_info": {
   "codemirror_mode": {
    "name": "ipython",
    "version": 3
   },
   "file_extension": ".py",
   "mimetype": "text/x-python",
   "name": "python",
   "nbconvert_exporter": "python",
   "pygments_lexer": "ipython3",
   "version": "3.12.0"
  }
 },
 "nbformat": 4,
 "nbformat_minor": 4
}
