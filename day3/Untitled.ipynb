{
 "cells": [
  {
   "cell_type": "code",
   "execution_count": 30,
   "metadata": {},
   "outputs": [
    {
     "name": "stdout",
     "output_type": "stream",
     "text": [
      "    StudentID     Name  Age  CourseID\n",
      "9           1    Alice   20       101\n",
      "3           2      Bob   22       102\n",
      "42          3  Charlie   21       101\n",
      "2           4    David   23       103\n",
      "2           5      Eva   20       104\n",
      "3           6    Frank   22       102\n",
      "    CourseID       CourseName  Credits\n",
      "9        101           Python        3\n",
      "3        102     Data Science        4\n",
      "42       103  Web Development        3\n",
      "3        105               AI        5\n",
      "   StudentID     Name   Age  CourseID       CourseName  Credits\n",
      "0        1.0    Alice  20.0       101           Python      3.0\n",
      "1        3.0  Charlie  21.0       101           Python      3.0\n",
      "2        2.0      Bob  22.0       102     Data Science      4.0\n",
      "3        6.0    Frank  22.0       102     Data Science      4.0\n",
      "4        4.0    David  23.0       103  Web Development      3.0\n",
      "5        5.0      Eva  20.0       104              NaN      NaN\n",
      "6        NaN      NaN   NaN       105               AI      5.0\n"
     ]
    }
   ],
   "source": [
    "import pandas as pd\n",
    "\n",
    "# Student DataFrame\n",
    "students = pd.DataFrame({\n",
    "    \"StudentID\": [1, 2, 3, 4, 5, 6],\n",
    "    \"Name\": [\"Alice\", \"Bob\", \"Charlie\", \"David\", \"Eva\", \"Frank\"],\n",
    "    \"Age\": [20, 22, 21, 23, 20, 22],\n",
    "    \"CourseID\": [101, 102, 101, 103, 104, 102]\n",
    "},index=[9,3,42,2,2,3])\n",
    "\n",
    "# Course DataFrame\n",
    "courses = pd.DataFrame({\n",
    "    \"CourseID\": [101, 102, 103, 105],\n",
    "    \"CourseName\": [\"Python\", \"Data Science\", \"Web Development\", \"AI\"],\n",
    "    \"Credits\": [3, 4, 3, 5]\n",
    "},index=[9,3,42,3])\n",
    "\n",
    "# sorting  \n",
    "# # using index\n",
    "# students.sort_index(ascending=False)\n",
    "\n",
    "# # sort columns\n",
    "# students.sort_index(axis=1)\n",
    "\n",
    "# # using values \n",
    "# students.sort_values('Age',ascending=False)\n",
    "\n",
    "\n",
    "# joins - it is used to combine two or more dataframes\n",
    "# inner join\n",
    "# print(pd.merge(students, courses, on=\"CourseID\", how=\"inner\"))\n",
    "# left join\n",
    "\n",
    "# print(pd.merge(students, courses, on=\"CourseID\", how=\"left\"))\n",
    "# right join\n",
    "\n",
    "# print(pd.merge(students, courses, on=\"CourseID\", how=\"right\"))\n",
    "\n",
    "# cross join \n",
    "# print(pd.merge(students, courses, how=\"cross\"))\n",
    "\n",
    "# outer join\n",
    "print(pd.merge(students, courses, on=\"CourseID\", how=\"outer\"))\n",
    "\n",
    "# self join\n"
   ]
  },
  {
   "cell_type": "code",
   "execution_count": null,
   "metadata": {},
   "outputs": [],
   "source": []
  }
 ],
 "metadata": {
  "kernelspec": {
   "display_name": "Python 3 (ipykernel)",
   "language": "python",
   "name": "python3"
  },
  "language_info": {
   "codemirror_mode": {
    "name": "ipython",
    "version": 3
   },
   "file_extension": ".py",
   "mimetype": "text/x-python",
   "name": "python",
   "nbconvert_exporter": "python",
   "pygments_lexer": "ipython3",
   "version": "3.12.0"
  }
 },
 "nbformat": 4,
 "nbformat_minor": 4
}
