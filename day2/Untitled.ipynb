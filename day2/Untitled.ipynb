{
 "cells": [
  {
   "cell_type": "code",
   "execution_count": 27,
   "metadata": {},
   "outputs": [],
   "source": [
    "import pandas as pd\n",
    "\n",
    "std= pd.DataFrame({\n",
    "    \"StudentID\": range(1, 11),\n",
    "    \"Name\": [\"Alice\", \"Bob\", \"Charlie\", \"None\", \"Eva\", \"Frank\", \"Grace\", \"Helen\", \"Ian\", \"Jane\"],\n",
    "    \"Age\": [20, 21, 19, 22, 20, 23, 21, 20, 22, 19],\n",
    "    \"Department\": [\"CS\", \"IT\", \"CS\", \"ECE\", \"IT\", \"CS\", \"ECE\", \"IT\", \"CS\", \"ECE\"],\n",
    "    \"Math\": [85, 78, 92, 65, 88, 74, 90, 82, 95, 70],\n",
    "    \"Science\": [80, 85, 70, 60, 92, 75, 88, 78, 85, 72],\n",
    "    \"English\": [75, 88, 82, 70, 85, 80, 90, 86, 84, 73]\n",
    "})\n",
    "\n",
    "\n",
    "sls = pd.DataFrame({\n",
    "    \"OrderID\": range(101, 111),\n",
    "    \"Product\": [\"Laptop\", \"Mobile\", \"Tablet\", \"Laptop\", \"Headphones\", \"Mobile\", \"Laptop\", \"Tablet\", \"Mobile\", \"Headphones\"],\n",
    "    \"Category\": [\"Electronics\", \"Electronics\", \"Electronics\", \"Electronics\", \"Accessories\", \"Electronics\", \"Electronics\", \"Electronics\", \"Electronics\", \"Accessories\"],\n",
    "    \"Quantity\": [2, 5, 3, 1, 10, 4, 2, 6, 7, 8],\n",
    "    \"Price\": [60000, 20000, 15000, 62000, 2000, 21000, 61000, 15500, 20500, 2500],\n",
    "    \"Region\": [\"North\", \"South\", \"East\", \"West\", \"North\", \"South\", \"East\", \"West\", \"North\",\"west\" ]\n",
    "})\n",
    "\n",
    "\n",
    "\n"
   ]
  },
  {
   "cell_type": "code",
   "execution_count": 12,
   "metadata": {},
   "outputs": [
    {
     "data": {
      "text/html": [
       "<div>\n",
       "<style scoped>\n",
       "    .dataframe tbody tr th:only-of-type {\n",
       "        vertical-align: middle;\n",
       "    }\n",
       "\n",
       "    .dataframe tbody tr th {\n",
       "        vertical-align: top;\n",
       "    }\n",
       "\n",
       "    .dataframe thead th {\n",
       "        text-align: right;\n",
       "    }\n",
       "</style>\n",
       "<table border=\"1\" class=\"dataframe\">\n",
       "  <thead>\n",
       "    <tr style=\"text-align: right;\">\n",
       "      <th></th>\n",
       "      <th>English</th>\n",
       "      <th>Science</th>\n",
       "      <th>Math</th>\n",
       "      <th>Department</th>\n",
       "      <th>Age</th>\n",
       "      <th>Name</th>\n",
       "      <th>StudentID</th>\n",
       "    </tr>\n",
       "  </thead>\n",
       "  <tbody>\n",
       "    <tr>\n",
       "      <th>9</th>\n",
       "      <td>73</td>\n",
       "      <td>72</td>\n",
       "      <td>70</td>\n",
       "      <td>ECE</td>\n",
       "      <td>19</td>\n",
       "      <td>Jane</td>\n",
       "      <td>10</td>\n",
       "    </tr>\n",
       "    <tr>\n",
       "      <th>8</th>\n",
       "      <td>84</td>\n",
       "      <td>85</td>\n",
       "      <td>95</td>\n",
       "      <td>CS</td>\n",
       "      <td>22</td>\n",
       "      <td>Ian</td>\n",
       "      <td>9</td>\n",
       "    </tr>\n",
       "    <tr>\n",
       "      <th>7</th>\n",
       "      <td>86</td>\n",
       "      <td>78</td>\n",
       "      <td>82</td>\n",
       "      <td>IT</td>\n",
       "      <td>20</td>\n",
       "      <td>Helen</td>\n",
       "      <td>8</td>\n",
       "    </tr>\n",
       "    <tr>\n",
       "      <th>6</th>\n",
       "      <td>90</td>\n",
       "      <td>88</td>\n",
       "      <td>90</td>\n",
       "      <td>ECE</td>\n",
       "      <td>21</td>\n",
       "      <td>Grace</td>\n",
       "      <td>7</td>\n",
       "    </tr>\n",
       "    <tr>\n",
       "      <th>5</th>\n",
       "      <td>80</td>\n",
       "      <td>75</td>\n",
       "      <td>74</td>\n",
       "      <td>CS</td>\n",
       "      <td>23</td>\n",
       "      <td>Frank</td>\n",
       "      <td>6</td>\n",
       "    </tr>\n",
       "    <tr>\n",
       "      <th>4</th>\n",
       "      <td>85</td>\n",
       "      <td>92</td>\n",
       "      <td>88</td>\n",
       "      <td>IT</td>\n",
       "      <td>20</td>\n",
       "      <td>Eva</td>\n",
       "      <td>5</td>\n",
       "    </tr>\n",
       "    <tr>\n",
       "      <th>3</th>\n",
       "      <td>70</td>\n",
       "      <td>60</td>\n",
       "      <td>65</td>\n",
       "      <td>ECE</td>\n",
       "      <td>22</td>\n",
       "      <td>None</td>\n",
       "      <td>4</td>\n",
       "    </tr>\n",
       "    <tr>\n",
       "      <th>2</th>\n",
       "      <td>82</td>\n",
       "      <td>70</td>\n",
       "      <td>92</td>\n",
       "      <td>CS</td>\n",
       "      <td>19</td>\n",
       "      <td>Charlie</td>\n",
       "      <td>3</td>\n",
       "    </tr>\n",
       "    <tr>\n",
       "      <th>1</th>\n",
       "      <td>88</td>\n",
       "      <td>85</td>\n",
       "      <td>78</td>\n",
       "      <td>IT</td>\n",
       "      <td>21</td>\n",
       "      <td>Bob</td>\n",
       "      <td>2</td>\n",
       "    </tr>\n",
       "    <tr>\n",
       "      <th>0</th>\n",
       "      <td>75</td>\n",
       "      <td>80</td>\n",
       "      <td>85</td>\n",
       "      <td>CS</td>\n",
       "      <td>20</td>\n",
       "      <td>Alice</td>\n",
       "      <td>1</td>\n",
       "    </tr>\n",
       "  </tbody>\n",
       "</table>\n",
       "</div>"
      ],
      "text/plain": [
       "   English  Science  Math Department  Age     Name  StudentID\n",
       "9       73       72    70        ECE   19     Jane         10\n",
       "8       84       85    95         CS   22      Ian          9\n",
       "7       86       78    82         IT   20    Helen          8\n",
       "6       90       88    90        ECE   21    Grace          7\n",
       "5       80       75    74         CS   23    Frank          6\n",
       "4       85       92    88         IT   20      Eva          5\n",
       "3       70       60    65        ECE   22     None          4\n",
       "2       82       70    92         CS   19  Charlie          3\n",
       "1       88       85    78         IT   21      Bob          2\n",
       "0       75       80    85         CS   20    Alice          1"
      ]
     },
     "execution_count": 12,
     "metadata": {},
     "output_type": "execute_result"
    }
   ],
   "source": [
    "# # slicing- it is used to specific rows or columns from a dataframe using lable or index\n",
    "\n",
    "# #how to get first five\n",
    "# std.head() \n",
    "\n",
    "# # how to applly slicing\n",
    "\n",
    "# # slicing syntax-can do with loc and iloc\n",
    "# # std[rstart: rend: rstep,cstart:cend:cstep]\n",
    "# std.iloc[0:3:2]\n",
    "# std.iloc[3::,0:3]\n",
    "# std.iloc[::-1,::-1]\n"
   ]
  },
  {
   "cell_type": "code",
   "execution_count": 30,
   "metadata": {},
   "outputs": [
    {
     "data": {
      "text/plain": [
       "(10, 7)"
      ]
     },
     "execution_count": 30,
     "metadata": {},
     "output_type": "execute_result"
    }
   ],
   "source": [
    "# filtering - getting specific data based on a condition\n",
    "std['Math']>85\n",
    "\n",
    "# boolean indexing\n",
    "std[std['Math']>85]\n",
    "\n",
    "std[std['Department']=='CS']\n",
    "\n",
    "# and operator\n",
    "std[(std['Department']=='CS') & (std['Math']>80)]\n",
    "\n",
    "# or operator\n",
    "std[(std['Department']=='CS') | (std['Math']>80)]\n",
    "\n",
    "# not operator\n",
    "std[~(std['Department']=='CS') & ~(std['Math']>80)]\n",
    "\n"
   ]
  },
  {
   "cell_type": "code",
   "execution_count": 39,
   "metadata": {},
   "outputs": [
    {
     "name": "stdout",
     "output_type": "stream",
     "text": [
      "   StudentID     Name  Age Department  Math  Science  English\n",
      "0          1    Alice   20         CS    85       80       75\n",
      "1          2      Bob   21         IT    78       85       88\n",
      "2          3  Charlie   19         CS    92       70       82\n",
      "3          4     None   22        ECE    65       60       70\n",
      "4          5      Eva   20         IT    88       92       85\n",
      "5          6    Frank   23         CS    74       75       80\n",
      "6          7    Grace   21        ECE    90       88       90\n",
      "7          8    Helen   20         IT    82       78       86\n",
      "8          9      Ian   22         CS    95       85       84\n",
      "9         10     Jane   19        ECE    70       72       73\n"
     ]
    },
    {
     "data": {
      "text/plain": [
       "2"
      ]
     },
     "execution_count": 39,
     "metadata": {},
     "output_type": "execute_result"
    }
   ],
   "source": [
    "# attributes- it will give you the information of dataframe\n",
    "print(std)\n",
    "std.shape\n",
    "std.size\n",
    "std.dtypes\n",
    "std.index\n",
    "std.values\n",
    "std.columns\n",
    "std.ndim\n",
    "\n"
   ]
  },
  {
   "cell_type": "code",
   "execution_count": 51,
   "metadata": {},
   "outputs": [
    {
     "name": "stdout",
     "output_type": "stream",
     "text": [
      "   a  b\n",
      "0  1  4\n",
      "1  2  5\n",
      "2  3  6\n",
      "    a   b\n",
      "0  10  40\n",
      "1  20  50\n",
      "2  30  60\n",
      "    a   b\n",
      "0  11  44\n",
      "1  22  55\n",
      "2  33  66\n",
      "    a   b\n",
      "0  -9 -36\n",
      "1 -18 -45\n",
      "2 -27 -54\n",
      "     a    b\n",
      "0  0.1  0.1\n",
      "1  0.1  0.1\n",
      "2  0.1  0.1\n",
      "    a    b\n",
      "0  10  160\n",
      "1  40  250\n",
      "2  90  360\n",
      "                 a                    b\n",
      "0                1                    0\n",
      "1          1048576 -6776596920136667815\n",
      "2  205891132094649  1152921504606846976\n"
     ]
    }
   ],
   "source": [
    "# vector operations- we can perform some calculation on dataframe without using loops\n",
    "#  - + / * **\n",
    "# column wise\n",
    "sls['total']=sls['Price']* sls['Quantity']\n",
    "\n",
    "# element wise\n",
    "d1=pd.DataFrame({'a':[1,2,3],'b':[4,5,6]})\n",
    "d2=pd.DataFrame({'a':[10,20,30],'b':[40,50,60]})\n",
    "print(d1)\n",
    "print(d2)\n",
    "print(d1+d2)\n",
    "print(d1-d2)\n",
    "print(d1/d2)\n",
    "print(d1*d2)\n",
    "print(d1**d2)"
   ]
  },
  {
   "cell_type": "code",
   "execution_count": 64,
   "metadata": {},
   "outputs": [
    {
     "name": "stdout",
     "output_type": "stream",
     "text": [
      "   StudentID     Name  Age Department  Math  Science  English\n",
      "0          1    Alice   20         CS    85       80       75\n",
      "1          2      Bob   21         IT    78       85       88\n",
      "2          3  Charlie   19         CS    92       70       82\n",
      "3          4     None   22        ECE    65       60       70\n",
      "4          5      Eva   20         IT    88       92       85\n",
      "5          6    Frank   23         CS    74       75       80\n",
      "6          7    Grace   21        ECE    90       88       90\n",
      "7          8    Helen   20         IT    82       78       86\n",
      "8          9      Ian   22         CS    95       85       84\n",
      "9         10     Jane   19        ECE    70       72       73\n"
     ]
    },
    {
     "data": {
      "text/plain": [
       "Science    78.5\n",
       "Math       81.9\n",
       "English    81.3\n",
       "dtype: float64"
      ]
     },
     "execution_count": 64,
     "metadata": {},
     "output_type": "execute_result"
    }
   ],
   "source": [
    "# Aggregating functions- it is a function that perform some calculation on a set of values\n",
    "# and returns a single value\n",
    "\n",
    "# sum min max mean median count nunique\n",
    "print(std)\n",
    "std['Science'].nunique()\n",
    "std['Science'].sum()\n",
    "std['Science'].mean()\n",
    "std['Science'].median()\n",
    "std['Science'].min()\n",
    "std['Science'].max()\n",
    "std['Science'].count()\n",
    "\n",
    "# how to appy mutliple aggregating functions\n",
    "std['Science'].agg(['min','max'])\n",
    "\n",
    "# how to apply aggregation function to the multiple columns\n",
    "std[['Science','Math','English']].mean()"
   ]
  },
  {
   "cell_type": "code",
   "execution_count": 69,
   "metadata": {},
   "outputs": [
    {
     "name": "stdout",
     "output_type": "stream",
     "text": [
      "   OrderID     Product     Category  Quantity  Price Region   total\n",
      "0      101      Laptop  Electronics         2  60000  North  120000\n",
      "1      102      Mobile  Electronics         5  20000  South  100000\n",
      "2      103      Tablet  Electronics         3  15000   East   45000\n",
      "3      104      Laptop  Electronics         1  62000   West   62000\n",
      "4      105  Headphones  Accessories        10   2000  North   20000\n",
      "5      106      Mobile  Electronics         4  21000  South   84000\n",
      "6      107      Laptop  Electronics         2  61000   East  122000\n",
      "7      108      Tablet  Electronics         6  15500   West   93000\n",
      "8      109      Mobile  Electronics         7  20500  North  143500\n",
      "9      110  Headphones  Accessories         8   2500   west   20000\n"
     ]
    },
    {
     "data": {
      "text/plain": [
       "Region  Product   \n",
       "East    Laptop        61000\n",
       "        Tablet        15000\n",
       "North   Headphones     2000\n",
       "        Laptop        60000\n",
       "        Mobile        20500\n",
       "South   Mobile        41000\n",
       "West    Laptop        62000\n",
       "        Tablet        15500\n",
       "west    Headphones     2500\n",
       "Name: Price, dtype: int64"
      ]
     },
     "execution_count": 69,
     "metadata": {},
     "output_type": "execute_result"
    }
   ],
   "source": [
    "# group by - it is used to split the data into groups and then perform aggregating functions\n",
    "\n",
    "print(sls)\n",
    "# product wise\n",
    "sls.groupby('Product')['Price'].sum()\n",
    "\n",
    "sls.groupby('Region')['Price'].sum()\n",
    "\n",
    "# group by by multiple columns\n",
    "sls.groupby(['Region','Product'])['Price'].sum()\n",
    "\n"
   ]
  },
  {
   "cell_type": "code",
   "execution_count": null,
   "metadata": {},
   "outputs": [],
   "source": []
  }
 ],
 "metadata": {
  "kernelspec": {
   "display_name": "Python 3 (ipykernel)",
   "language": "python",
   "name": "python3"
  },
  "language_info": {
   "codemirror_mode": {
    "name": "ipython",
    "version": 3
   },
   "file_extension": ".py",
   "mimetype": "text/x-python",
   "name": "python",
   "nbconvert_exporter": "python",
   "pygments_lexer": "ipython3",
   "version": "3.12.0"
  }
 },
 "nbformat": 4,
 "nbformat_minor": 4
}
