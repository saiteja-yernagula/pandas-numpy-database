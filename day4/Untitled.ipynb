{
 "cells": [
  {
   "cell_type": "code",
   "execution_count": null,
   "metadata": {},
   "outputs": [],
   "source": [
    "# 1d 2d 3d\n",
    "# special arrays\n",
    "# attributes\n",
    "# indexing\n",
    "# slicing\n",
    "# performance\n",
    "# vector operation\n",
    "# reshaping\n",
    "# aggregate\n",
    "# stacking \n",
    "# splitting"
   ]
  },
  {
   "cell_type": "code",
   "execution_count": null,
   "metadata": {},
   "outputs": [],
   "source": []
  },
  {
   "cell_type": "markdown",
   "metadata": {},
   "source": [
    "# numpy\n",
    "# numerical python\n",
    "# array \n",
    "# faster bcoz it uses c\n",
    "# mathematical operation\n",
    "# it saves the memory\n",
    "\n",
    "import numpy as np\n",
    "\n"
   ]
  },
  {
   "cell_type": "code",
   "execution_count": 181,
   "metadata": {},
   "outputs": [
    {
     "name": "stdout",
     "output_type": "stream",
     "text": [
      "[[1 2 3]\n",
      " [4 5 6]\n",
      " [7 8 9]]\n",
      "[array([[1, 2, 3]]), array([[4, 5, 6]]), array([[7, 8, 9]])]\n"
     ]
    }
   ],
   "source": [
    "import numpy as np\n",
    "\n",
    "# 1d array\n",
    "arr1=np.array([1,2,3])\n",
    "arr1\n",
    "# 2d array\n",
    "arr2=np.array([[1,2,3],[4,5,6],[7,8,9]])\n",
    "arr2\n",
    "# 3d array\n",
    "arr3=np.array([\n",
    "    [[1,2],[3,4],[5,6]],\n",
    "    [[7,8],[9,10],[11,12]]\n",
    "])\n",
    "arr3\n",
    "\n",
    "# special arrays\n",
    "# np.zeros((2,3,2))\n",
    "# np.eye(4)\n",
    "# np.ones((2,3))\n",
    "# np.full((2,3),7)\n",
    "# np.arange(10,100,2)\n",
    "# np.linspace(1,100,10)\n",
    "\n",
    "# indexing\n",
    "# print(arr2)\n",
    "#fancy indexing\n",
    "# arr2[[0,2]]\n",
    "\n",
    "# # slicing\n",
    "# print(arr3)\n",
    "# arr3[0:1,::-1,::-1]\n",
    "\n",
    "# attributes\n",
    "arr2.ndim\n",
    "arr2.size\n",
    "arr2.dtype\n",
    "arr2.shape\n",
    "\n",
    "# vector operations + -* / **\n",
    "# print(arr3)\n",
    "\n",
    "# # reshaping\n",
    "# print(arr3.size)\n",
    "# print(arr3.reshape(6,2))\n",
    "\n",
    "# aggregrating funcions\n",
    "# sum min max mean \n",
    "# print(arr2)\n",
    "arr2.mean()\n",
    "\n",
    "\n",
    "# stacking -adding two arrays - horizontal or vertical\n",
    "print(arr2)\n",
    "# print(np.hstack((arr2,arr2)))\n",
    "# print(np.vstack((arr2,arr2)))\n",
    "\n",
    "# splitting-dividing the array\n",
    "print(np.split(arr2,3))"
   ]
  },
  {
   "cell_type": "code",
   "execution_count": 136,
   "metadata": {},
   "outputs": [
    {
     "name": "stdout",
     "output_type": "stream",
     "text": [
      "0.0010013580322265625\n",
      "0.02804708480834961\n"
     ]
    }
   ],
   "source": [
    "import time\n",
    "\n",
    "arr=np.arange(1000000)\n",
    "\n",
    "a=time.time()\n",
    "arr.sum()\n",
    "print(time.time()-a)\n",
    "\n",
    "li=list(range(1000000))\n",
    "\n",
    "a=time.time()\n",
    "sum(li)\n",
    "print(time.time()-a)"
   ]
  },
  {
   "cell_type": "code",
   "execution_count": null,
   "metadata": {},
   "outputs": [],
   "source": []
  }
 ],
 "metadata": {
  "kernelspec": {
   "display_name": "Python 3 (ipykernel)",
   "language": "python",
   "name": "python3"
  },
  "language_info": {
   "codemirror_mode": {
    "name": "ipython",
    "version": 3
   },
   "file_extension": ".py",
   "mimetype": "text/x-python",
   "name": "python",
   "nbconvert_exporter": "python",
   "pygments_lexer": "ipython3",
   "version": "3.12.0"
  }
 },
 "nbformat": 4,
 "nbformat_minor": 4
}
